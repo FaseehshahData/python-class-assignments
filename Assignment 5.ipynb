{
 "cells": [
  {
   "cell_type": "markdown",
   "id": "1d0981c7-fe30-420c-babe-6ae9ee3ae0e8",
   "metadata": {},
   "source": [
    "# 1"
   ]
  },
  {
   "cell_type": "code",
   "execution_count": null,
   "id": "50c76b3e-4bfe-44fa-aae9-b54c0e3ef934",
   "metadata": {},
   "outputs": [],
   "source": [
    "employee_1 = (101, \"Ali Khan\", \"HR\")\n",
    "employee_2 = (102, \"Hasan Jaan\", \"IT\")\n",
    "employee_3 = (103, \"Karim Baksh\", \"Finance\")\n",
    "\n",
    "# Store all employee records in a list\n",
    "employees = [employee_1, employee_2, employee_3]\n",
    "\n",
    "for employee in employees:\n",
    "    print(f'ID: {employee[0]:<5}    Name: {employee[1]:<15}    Department: {employee[2]}')"
   ]
  },
  {
   "cell_type": "markdown",
   "id": "b43099a8-5fac-4746-a4a6-6f53030ce9db",
   "metadata": {},
   "source": [
    "# 2"
   ]
  },
  {
   "cell_type": "code",
   "execution_count": 33,
   "id": "62d9ab2f-159d-443b-ae63-85bd6b616cad",
   "metadata": {},
   "outputs": [
    {
     "name": "stdout",
     "output_type": "stream",
     "text": [
      "ID: 111      Product: Glass         Description: Suitable for water\n",
      "ID: 112      Product: Handfree      Description: Made in Japan\n",
      "ID: 113      Product: Mouse         Description: Usable for PC\n"
     ]
    }
   ],
   "source": [
    "item_1 = (111, 'Glass', 'Suitable for water')\n",
    "item_2 = (112, 'Handfree', 'Made in Japan')\n",
    "item_3 = (113, 'Mouse', 'Usable for PC')\n",
    "\n",
    "items = [item_1, item_2, item_3]\n",
    "\n",
    "for item in items:\n",
    " print(f'ID: {item[0]:<5}    Product: {item[1]:<10}    Description: {item[2]}')\n"
   ]
  },
  {
   "cell_type": "markdown",
   "id": "fc0265b9-3bbd-4536-814b-fcf62a496b87",
   "metadata": {},
   "source": [
    "# 3"
   ]
  },
  {
   "cell_type": "code",
   "execution_count": 36,
   "id": "6c411d44-4fd6-4e4c-9f8c-6d43c6684dc2",
   "metadata": {},
   "outputs": [
    {
     "name": "stdout",
     "output_type": "stream",
     "text": [
      "Date: 2024-08-20      Time: 10:00 AM        Event: Team Meeting\n",
      "Date: 2024-08-21      Time: 02:00 PM        Event: Client Presentation\n",
      "Date: 2024-08-22      Time: 09:00 AM        Event: Project Kickoff\n"
     ]
    }
   ],
   "source": [
    "# Define events using tuples (Date, Time, Event Name)\n",
    "event_1 = (\"2024-08-20\", \"10:00 AM\", \"Team Meeting\")\n",
    "event_2 = (\"2024-08-21\", \"02:00 PM\", \"Client Presentation\")\n",
    "event_3 = (\"2024-08-22\", \"09:00 AM\", \"Project Kickoff\")\n",
    "\n",
    "events = [event_1, event_2, event_3]\n",
    "\n",
    "for event in events:\n",
    "    print(f'Date: {event[0]:<15} Time: {event[1]:<15} Event: {event[2]}')"
   ]
  },
  {
   "cell_type": "markdown",
   "id": "374f15bf-ac53-4641-8d55-aa42ee2855bf",
   "metadata": {},
   "source": [
    "# 4"
   ]
  },
  {
   "cell_type": "code",
   "execution_count": 53,
   "id": "786afc96-e3f9-408b-ae86-74e128d6ef97",
   "metadata": {},
   "outputs": [
    {
     "name": "stdout",
     "output_type": "stream",
     "text": [
      "Department: IT\n",
      "  ID: 201  Name: Charlie Davis    Position: System Administrator\n",
      "  ID: 202  Name: David Wilson     Position: Software Developer\n",
      "  ID: 203  Name: Emily Clark      Position: IT Support Specialist\n"
     ]
    }
   ],
   "source": [
    "\n",
    "department = {\n",
    "    201: (\"Charlie Davis\", \"System Administrator\"),\n",
    "    202: (\"David Wilson\", \"Software Developer\"),\n",
    "    203: (\"Emily Clark\", \"IT Support Specialist\"),\n",
    "}\n",
    "\n",
    "print(\"Department: IT\")\n",
    "\n",
    "for emp_id, details in department.items():\n",
    "    print(f\"  ID: {emp_id}  Name: {details[0]:<15}  Position: {details[1]}\")\n"
   ]
  },
  {
   "cell_type": "markdown",
   "id": "5934d12d-9de8-4002-9345-bffd16080053",
   "metadata": {},
   "source": [
    "# 5"
   ]
  },
  {
   "cell_type": "code",
   "execution_count": 73,
   "id": "dbad8de4-3233-453c-9dac-1ddca0f1aedc",
   "metadata": {},
   "outputs": [
    {
     "name": "stdout",
     "output_type": "stream",
     "text": [
      "Scores for Alice: {'Math': 85, 'English': 78, 'Science': 92}\n"
     ]
    }
   ],
   "source": [
    "#dictionary in list\n",
    "\n",
    "students = [\n",
    "    {\"name\": \"Alice\", \"scores\": {\"Math\": 85, \"English\": 78, \"Science\": 92}},\n",
    "    {\"name\": \"Bob\", \"scores\": {\"Math\": 90, \"English\": 88, \"Science\": 75}},\n",
    "    {\"name\": \"Charlie\", \"scores\": {\"Math\": 70, \"English\": 65, \"Science\": 80}},\n",
    "]\n",
    "\n",
    "# Function to retrieve a student's scores by name\n",
    "def get_student_scores(student_name):\n",
    "    for student in students:\n",
    "        if student[\"name\"] == student_name:\n",
    "            return student[\"scores\"]\n",
    "    return \"Student not found\"\n",
    "\n",
    "# Example: Retrieve and print scores for a specific student\n",
    "\n",
    "student_name = \"Alice\"\n",
    "\n",
    "scores = get_student_scores(student_name)\n",
    "print(f\"Scores for {student_name}: {scores}\")\n"
   ]
  },
  {
   "cell_type": "markdown",
   "id": "52940c51-e773-4759-9fc1-5b07a1f39e12",
   "metadata": {},
   "source": [
    "# 6"
   ]
  },
  {
   "cell_type": "code",
   "execution_count": 74,
   "id": "19066866-65f1-4442-8800-ebcad500e2b2",
   "metadata": {},
   "outputs": [
    {
     "name": "stdout",
     "output_type": "stream",
     "text": [
      "Tasks for App Development: ['Create wireframes', 'Develop backend', 'Test API integration']\n"
     ]
    }
   ],
   "source": [
    "# Dictionary to store projects and their associated tasks\n",
    "\n",
    "\n",
    "projects = {\n",
    "    \"Website Redesign\": [\"Design new homepage\", \"Update logo\", \"Improve site navigation\"],\n",
    "    \"App Development\": [\"Create wireframes\", \"Develop backend\", \"Test API integration\"],\n",
    "    \"Marketing Campaign\": [\"Write ad copy\", \"Design banners\", \"Launch social media ads\"],\n",
    "}\n",
    "\n",
    "\n",
    "# Function to retrieve tasks for a specific project\n",
    "\n",
    "\n",
    "def get_project_tasks(project_name):\n",
    "    return projects.get(project_name, \"Project not found\")\n",
    "\n",
    "\n",
    "# Example: Retrieve and print tasks for a specific project\n",
    "\n",
    "\n",
    "project_name = \"App Development\"\n",
    "\n",
    "tasks = get_project_tasks(project_name)\n",
    "\n",
    "print(f\"Tasks for {project_name}: {tasks}\")"
   ]
  },
  {
   "cell_type": "markdown",
   "id": "72d921b4-90bf-4bed-8cfb-952461ab8925",
   "metadata": {},
   "source": [
    "# 7"
   ]
  },
  {
   "cell_type": "code",
   "execution_count": 78,
   "id": "244eedd5-46af-49df-a202-db29fa10fc25",
   "metadata": {},
   "outputs": [
    {
     "name": "stdout",
     "output_type": "stream",
     "text": [
      "Details for Module 3 in Python Programming: Control Structures\n"
     ]
    }
   ],
   "source": [
    "# Define a dictionary to store courses and their module details\n",
    "training_program = {\n",
    "    \"Python Programming\": {\n",
    "        \"Module 1\": \"Introduction to Python\",\n",
    "        \"Module 2\": \"Data Types and Variables\",\n",
    "        \"Module 3\": \"Control Structures\",\n",
    "        \"Module 4\": \"Functions and Modules\",\n",
    "        \"Module 5\": \"File Handling\",\n",
    "    },\n",
    "    \"Web Development\": {\n",
    "        \"Module 1\": \"HTML Basics\",\n",
    "        \"Module 2\": \"CSS Fundamentals\",\n",
    "        \"Module 3\": \"JavaScript Essentials\",\n",
    "        \"Module 4\": \"Responsive Design\",\n",
    "        \"Module 5\": \"Backend Integration\",\n",
    "    }\n",
    "}\n",
    "   \n",
    "\n",
    "# Function to retrieve module details for a specific course\n",
    "def get_module_details(course_name, module_name):\n",
    "    course = training_program.get(course_name, \"Course not found\")\n",
    "    if course == \"Course not found\":\n",
    "        return course\n",
    "    return course.get(module_name, \"Module not found\")\n",
    "\n",
    "# Example: Retrieve and print details of a specific module\n",
    "\n",
    "course_name = \"Python Programming\"\n",
    "module_name = \"Module 3\"\n",
    "module_details = get_module_details(course_name, module_name)\n",
    "print(f\"Details for {module_name} in {course_name}: {module_details}\")\n"
   ]
  },
  {
   "cell_type": "markdown",
   "id": "fbc2fe13-b836-4ec6-a4fa-681f064a7412",
   "metadata": {},
   "source": [
    "# 8"
   ]
  },
  {
   "cell_type": "code",
   "execution_count": 79,
   "id": "2bd89f83-b96f-4ce0-8ba3-7759653bc558",
   "metadata": {},
   "outputs": [
    {
     "name": "stdout",
     "output_type": "stream",
     "text": [
      "Products below the price threshold:\n",
      "  - Tablet\n",
      "  - Headphones\n",
      "  - Mouse\n"
     ]
    }
   ],
   "source": [
    "# List of tuples containing product names and their prices\n",
    "\n",
    "products = [\n",
    "    (\"Laptop\", 1200),\n",
    "    (\"Smartphone\", 700),\n",
    "    (\"Tablet\", 300),\n",
    "    (\"Headphones\", 150),\n",
    "    (\"Mouse\", 25),\n",
    "]\n",
    "\n",
    "# Define the price threshold\n",
    "\n",
    "price_threshold = 500\n",
    "\n",
    "# Using a list comprehension to find products below the price threshold\n",
    "\n",
    "affordable_products = [name for name, price in products if price < price_threshold]\n",
    "\n",
    "# Print the products that are below the price threshold\n",
    "\n",
    "print(\"Products below the price threshold:\")\n",
    "for product in affordable_products:\n",
    "    print(f\"  - {product}\")\n"
   ]
  }
 ],
 "metadata": {
  "kernelspec": {
   "display_name": "Python 3 (ipykernel)",
   "language": "python",
   "name": "python3"
  },
  "language_info": {
   "codemirror_mode": {
    "name": "ipython",
    "version": 3
   },
   "file_extension": ".py",
   "mimetype": "text/x-python",
   "name": "python",
   "nbconvert_exporter": "python",
   "pygments_lexer": "ipython3",
   "version": "3.12.4"
  }
 },
 "nbformat": 4,
 "nbformat_minor": 5
}
