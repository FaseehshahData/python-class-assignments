{
 "cells": [
  {
   "cell_type": "markdown",
   "id": "c73d13eb-c06e-47f5-8252-cc58a910f55c",
   "metadata": {},
   "source": [
    "# 4.1"
   ]
  },
  {
   "cell_type": "code",
   "execution_count": 2,
   "id": "4680f94e-865c-433b-b711-f2732613e51c",
   "metadata": {},
   "outputs": [
    {
     "data": {
      "text/plain": [
       "['Pasha', 'John', 'Ali']"
      ]
     },
     "execution_count": 2,
     "metadata": {},
     "output_type": "execute_result"
    }
   ],
   "source": [
    "guest_list=['Ahmed', 'Pasha', 'John', 'Ali', 'Pip']\n",
    "invited_guest=guest_list[1:4]\n",
    "invited_guest\n",
    "\n",
    "\n",
    "\n"
   ]
  },
  {
   "cell_type": "code",
   "execution_count": 3,
   "id": "43b8d91f-6840-493f-b62f-cf342af6e0a1",
   "metadata": {},
   "outputs": [
    {
     "name": "stdout",
     "output_type": "stream",
     "text": [
      "Hello Pasha you are invited to my party\n",
      "Hello John you are invited to my party\n",
      "Hello Ali you are invited to my party\n"
     ]
    }
   ],
   "source": [
    "for guest in invited_guest:\n",
    " print(f\"Hello {guest} you are invited to my party\")"
   ]
  },
  {
   "cell_type": "markdown",
   "id": "0daa9ee0-1382-45fc-bfa3-98708c17ea15",
   "metadata": {},
   "source": [
    "# 4.2"
   ]
  },
  {
   "cell_type": "code",
   "execution_count": 14,
   "id": "00d6fa68-89d8-41cd-b2a2-174a7b0734d1",
   "metadata": {},
   "outputs": [
    {
     "name": "stdout",
     "output_type": "stream",
     "text": [
      "John is not coming\n",
      "['Pasha', 'Faseeh', 'Ali']\n"
     ]
    }
   ],
   "source": [
    "invited_guest=['Pasha', 'John', 'Ali']\n",
    "\n",
    "print(invited_guest[1], 'is not coming')\n",
    "\n",
    "replace_guest=invited_guest.index('John')\n",
    "\n",
    "invited_guest[replace_guest]='Faseeh'\n",
    "\n",
    "print(invited_guest)"
   ]
  },
  {
   "cell_type": "code",
   "execution_count": 24,
   "id": "0f545f59-c45c-403f-8647-e6e134aa5aa0",
   "metadata": {},
   "outputs": [
    {
     "name": "stdout",
     "output_type": "stream",
     "text": [
      "Hello Pasha you are invited to my party\n",
      "Hello Faseeh you are invited to my party\n",
      "Hello Ali you are invited to my party\n",
      "John is not coming\n"
     ]
    }
   ],
   "source": [
    "\n",
    "for guest in new_list:\n",
    "\n",
    " print(f\"Hello {guest} you are invited to my party\")\n",
    "\n",
    "print('John is not coming')\n",
    "    \n",
    "\n"
   ]
  },
  {
   "cell_type": "markdown",
   "id": "79bf8bf6-f89d-4c3f-b4d0-e45410db036d",
   "metadata": {},
   "source": [
    "# 4.3"
   ]
  },
  {
   "cell_type": "code",
   "execution_count": 30,
   "id": "2666d30f-7094-4d0b-b3e4-3a61bcb33a95",
   "metadata": {},
   "outputs": [
    {
     "name": "stdout",
     "output_type": "stream",
     "text": [
      "['Shan', 'Pasha', 'Baba', 'Faseeh', 'Ali', 'Bilal']\n"
     ]
    }
   ],
   "source": [
    "invited_guest=['Pasha', 'Faseeh', 'Ali']\n",
    "\n",
    "x=invited_guest.insert(0, 'Shan')\n",
    "x=invited_guest.insert(2, 'Baba')\n",
    "x=invited_guest.append('Bilal')\n",
    "\n",
    "print(invited_guest)\n"
   ]
  },
  {
   "cell_type": "code",
   "execution_count": 33,
   "id": "5141f487-a0f2-492a-8d7c-5a9b495946e0",
   "metadata": {},
   "outputs": [
    {
     "name": "stdout",
     "output_type": "stream",
     "text": [
      "Shan I have found a bigger table for dinner\n",
      "Pasha I have found a bigger table for dinner\n",
      "Baba I have found a bigger table for dinner\n",
      "Faseeh I have found a bigger table for dinner\n",
      "Ali I have found a bigger table for dinner\n",
      "Bilal I have found a bigger table for dinner\n"
     ]
    }
   ],
   "source": [
    "for y in invited_guest:\n",
    "    \n",
    " print(f'{y} I have found a bigger table for dinner')\n",
    "    "
   ]
  },
  {
   "cell_type": "code",
   "execution_count": 35,
   "id": "19165968-c926-4adb-be7b-3a143f2b031d",
   "metadata": {},
   "outputs": [
    {
     "name": "stdout",
     "output_type": "stream",
     "text": [
      "Shan you are invited to the dinner\n",
      "Pasha you are invited to the dinner\n",
      "Baba you are invited to the dinner\n",
      "Faseeh you are invited to the dinner\n",
      "Ali you are invited to the dinner\n",
      "Bilal you are invited to the dinner\n"
     ]
    }
   ],
   "source": [
    "for y in invited_guest:\n",
    "    \n",
    "    print(f'{y} you are invited to the dinner')\n",
    "    "
   ]
  },
  {
   "cell_type": "markdown",
   "id": "c00c0ac1-4cc0-40a6-b9db-01e3e2794cb2",
   "metadata": {},
   "source": [
    "# 4.4"
   ]
  },
  {
   "cell_type": "code",
   "execution_count": 77,
   "id": "e3f08782-2567-43b6-a8f8-1fc07d689153",
   "metadata": {},
   "outputs": [
    {
     "name": "stdout",
     "output_type": "stream",
     "text": [
      "Shan you are not invited\n",
      "Baba you are not invited\n",
      "Ali you are not invited\n",
      "Pasha you are not invited\n",
      "Faseeh you are invited to the dinner.\n",
      "Bilal you are invited to the dinner.\n"
     ]
    }
   ],
   "source": [
    "guest=['Shan', 'Pasha', 'Baba', 'Faseeh', 'Ali', 'Bilal']\n",
    "\n",
    "# y=not coming to the party\n",
    "# x=coming to the party\n",
    "\n",
    "\n",
    "y=guest.pop(0)    #remove shan\n",
    "print(y,'you are not invited')\n",
    "\n",
    "y=guest.pop(1)    # Removes baba (index is now 1 after the previous pop)\n",
    "print(y,'you are not invited')\n",
    "\n",
    "y=guest.pop(2)\n",
    "print(y,'you are not invited')\n",
    "\n",
    "y=guest.pop(0)\n",
    "print(y,'you are not invited')\n",
    "\n",
    "\n",
    "for x in guest:\n",
    " print(f'{x} you are invited to the dinner.')\n",
    "\n",
    "\n",
    "\n",
    "\n",
    "\n"
   ]
  },
  {
   "cell_type": "code",
   "execution_count": 85,
   "id": "2d64d322-1346-4e48-807f-ce01dcce88b0",
   "metadata": {},
   "outputs": [
    {
     "name": "stdout",
     "output_type": "stream",
     "text": [
      "[]\n"
     ]
    }
   ],
   "source": [
    "z=guest.clear()\n",
    "print(guest)"
   ]
  }
 ],
 "metadata": {
  "kernelspec": {
   "display_name": "Python 3 (ipykernel)",
   "language": "python",
   "name": "python3"
  },
  "language_info": {
   "codemirror_mode": {
    "name": "ipython",
    "version": 3
   },
   "file_extension": ".py",
   "mimetype": "text/x-python",
   "name": "python",
   "nbconvert_exporter": "python",
   "pygments_lexer": "ipython3",
   "version": "3.12.4"
  }
 },
 "nbformat": 4,
 "nbformat_minor": 5
}
