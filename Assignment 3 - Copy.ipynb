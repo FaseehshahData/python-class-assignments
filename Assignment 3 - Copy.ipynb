{
 "cells": [
  {
   "cell_type": "markdown",
   "id": "0a1af4df-8a78-4723-a1d7-df6575fa2b3e",
   "metadata": {},
   "source": [
    "# 1. Write a Python program to print the following string in a specific format.\n"
   ]
  },
  {
   "cell_type": "code",
   "execution_count": 3,
   "id": "87b626fc-94ed-46e9-9509-8f85b9abf22e",
   "metadata": {},
   "outputs": [
    {
     "name": "stdout",
     "output_type": "stream",
     "text": [
      "                  Twinkle, twinkle, little star, \n",
      " How I wonder what you are!  \n",
      " Up above the world so high,  \n",
      "                            Like a diamond in the sky.  \n",
      " Twinkle, twinkle, little star,  \n",
      " How I wonder what you are  \n"
     ]
    }
   ],
   "source": [
    "poem = \"\"\"                  Twinkle, twinkle, little star, \n",
    " How I wonder what you are!  \n",
    " Up above the world so high,  \n",
    "                            Like a diamond in the sky.  \n",
    " Twinkle, twinkle, little star,  \n",
    " How I wonder what you are  \"\"\"\n",
    "print(poem)"
   ]
  },
  {
   "cell_type": "markdown",
   "id": "a7641fa4-3204-4311-a452-4da0c6922485",
   "metadata": {},
   "source": [
    "# 2. Write a Python program to get the Python version you are using  "
   ]
  },
  {
   "cell_type": "code",
   "execution_count": 14,
   "id": "fffee6be-1343-4be4-b5aa-4f68a6b5c492",
   "metadata": {},
   "outputs": [
    {
     "name": "stdout",
     "output_type": "stream",
     "text": [
      "3.12.4 | packaged by Anaconda, Inc. | (main, Jun 18 2024, 15:03:56) [MSC v.1929 64 bit (AMD64)]\n"
     ]
    }
   ],
   "source": [
    "print(sys.version)"
   ]
  },
  {
   "cell_type": "markdown",
   "id": "44d37c26-7ed7-4709-90ca-454cbd8d3a63",
   "metadata": {},
   "source": [
    "#  3. Write a Python program to display the current date and time. "
   ]
  },
  {
   "cell_type": "code",
   "execution_count": 71,
   "id": "0b4bdce9-5952-4678-81a0-f49c7ac6cef2",
   "metadata": {},
   "outputs": [
    {
     "name": "stdout",
     "output_type": "stream",
     "text": [
      "Current Date Time:\n",
      "02-08-24 17:01:32\n"
     ]
    }
   ],
   "source": [
    "\n",
    "import datetime\n",
    "\n",
    "now=datetime.datetime.now()\n",
    "\n",
    "print(\"Current Date Time:\")\n",
    "\n",
    "print(now.strftime(\"%d-%m-%y %H:%M:%S\"))"
   ]
  },
  {
   "cell_type": "markdown",
   "id": "3dac7f20-9e37-4bae-80d1-57a8a3e49db5",
   "metadata": {},
   "source": [
    "# 4. Write a Python program which accepts the radius of a circle from the user and compute  the area. "
   ]
  },
  {
   "cell_type": "code",
   "execution_count": 1,
   "id": "75bff01a-8109-406b-928a-f71e7e530335",
   "metadata": {},
   "outputs": [
    {
     "name": "stdin",
     "output_type": "stream",
     "text": [
      "Enter radius of circle 4\n"
     ]
    },
    {
     "name": "stdout",
     "output_type": "stream",
     "text": [
      "Area of circle is 50.272\n"
     ]
    }
   ],
   "source": [
    "\n",
    "r=float(input(\"Enter radius of circle\"))\n",
    "\n",
    "Area=3.142*r**2\n",
    "\n",
    "print(\"Area of circle is\",Area)\n",
    "\n"
   ]
  },
  {
   "cell_type": "markdown",
   "id": "db6bdaac-a10b-4770-b858-3172988ef44b",
   "metadata": {},
   "source": [
    "#  5. Write a Python program which accepts the user's first and last name and print them in  reverse order with a space between them. "
   ]
  },
  {
   "cell_type": "code",
   "execution_count": 3,
   "id": "7a4c255b-45d1-467b-ac91-d250954f64cf",
   "metadata": {},
   "outputs": [
    {
     "name": "stdin",
     "output_type": "stream",
     "text": [
      "Enter first name: faseeh\n",
      "Enter last name: ejaz\n"
     ]
    },
    {
     "name": "stdout",
     "output_type": "stream",
     "text": [
      "ejaz faseeh\n"
     ]
    }
   ],
   "source": [
    "\n",
    "first_name=input(\"Enter first name:\")\n",
    "\n",
    "last_name=input(\"Enter last name:\")\n",
    "\n",
    "print(last_name+\" \"+first_name)"
   ]
  },
  {
   "cell_type": "markdown",
   "id": "25cfa674-85f5-40d6-b12a-951b2abcbd5a",
   "metadata": {},
   "source": [
    "#  6. Write a python program which takes two inputs from user and print them addition.   "
   ]
  },
  {
   "cell_type": "code",
   "execution_count": 4,
   "id": "45932963-f6d9-4405-a43c-7f24ee02e7f6",
   "metadata": {},
   "outputs": [
    {
     "name": "stdin",
     "output_type": "stream",
     "text": [
      "First number: 10\n",
      "Second number: 12\n"
     ]
    },
    {
     "name": "stdout",
     "output_type": "stream",
     "text": [
      "1012\n"
     ]
    }
   ],
   "source": [
    "\n",
    "first_number=input(\"First number:\")\n",
    "\n",
    "second_number=input(\"Second number:\")\n",
    "\n",
    "total=first_number+second_number\n",
    "\n",
    "print(total)"
   ]
  },
  {
   "cell_type": "markdown",
   "id": "0e90f734-9689-44e1-8a84-e7e7659ea047",
   "metadata": {},
   "source": [
    "# 7. Write a program which takes 5 inputs from user for different subject’s marks, total it  and generate mark sheet using grades ?  "
   ]
  },
  {
   "cell_type": "code",
   "execution_count": 29,
   "id": "7671348d-e338-4269-9ed3-6e6ce749d9b8",
   "metadata": {},
   "outputs": [
    {
     "name": "stdin",
     "output_type": "stream",
     "text": [
      "Maths: 65\n",
      "Physics: 75\n",
      "Urdu: 85\n",
      "Geology: 95\n",
      "Biology: 100\n"
     ]
    },
    {
     "name": "stdout",
     "output_type": "stream",
     "text": [
      "Total Marks 420\n",
      "Average marks 84.0\n",
      "Grade A\n"
     ]
    }
   ],
   "source": [
    "\n",
    "def get_grade(avg_marks):\n",
    " if avg_marks >= 90 :\n",
    "   return 'A+'\n",
    " elif avg_marks >= 80 :\n",
    "   return 'A'\n",
    " elif avg_marks >= 70 :\n",
    "   return 'B+'\n",
    " elif avg_marks >= 60 :\n",
    "   return 'B'\n",
    " elif avg_marks >= 50 :\n",
    "   return 'C' \n",
    " else:\n",
    "   return 'F'\n",
    "#    \n",
    "Maths = int(input(\"Maths:\"))\n",
    "Physics = int(input(\"Physics:\"))\n",
    "Urdu = int(input(\"Urdu:\"))\n",
    "Geology = int(input(\"Geology:\"))\n",
    "Biology = int(input(\"Biology:\"))\n",
    "#\n",
    "Total_marks = Maths + Physics + Urdu + Geology + Biology\n",
    "#\n",
    "print(\"Total Marks\", Total_marks)\n",
    "#\n",
    "avg_marks = float(Total_marks/5)\n",
    "#\n",
    "print(\"Average marks\", avg_marks)\n",
    "#\n",
    "grade = get_grade(avg_marks)\n",
    "print(\"Grade\", grade)\n"
   ]
  },
  {
   "cell_type": "markdown",
   "id": "df0fbdae-dd61-4115-9c4b-f4636edc1c1d",
   "metadata": {},
   "source": [
    "# 8. Write a program which take input from user and identify that the given number is even  or odd?  "
   ]
  },
  {
   "cell_type": "code",
   "execution_count": 37,
   "id": "933f4434-ef90-4632-85a3-fd30de261400",
   "metadata": {},
   "outputs": [
    {
     "name": "stdin",
     "output_type": "stream",
     "text": [
      "Enter a number: 10\n"
     ]
    },
    {
     "name": "stdout",
     "output_type": "stream",
     "text": [
      "The number 10 is Even\n"
     ]
    }
   ],
   "source": [
    "\n",
    "def check_even_odd (number) :\n",
    " if number % 2 == 0 :\n",
    "    return 'Even'\n",
    " else :\n",
    "    return 'Odd' \n",
    "\n",
    "number = int(input('Enter a number:'))\n",
    "\n",
    "result = check_even_odd (number)\n",
    "\n",
    "print(f\"The number {number} is {result}\")"
   ]
  },
  {
   "cell_type": "markdown",
   "id": "5523318d-a6df-4004-a16b-b12c11d5ef31",
   "metadata": {},
   "source": [
    "# 9. Write a program which print the length of the list?  "
   ]
  },
  {
   "cell_type": "code",
   "execution_count": 65,
   "id": "50b218cc-25d9-49ec-955d-60461c998640",
   "metadata": {
    "scrolled": true
   },
   "outputs": [
    {
     "name": "stdout",
     "output_type": "stream",
     "text": [
      "The length of list is 7\n"
     ]
    }
   ],
   "source": [
    "\n",
    "def get_list_length(list):\n",
    "    return len(list)\n",
    "\n",
    "example_list = [1, 2, 3, 4, 5, \"apple\", \"banana\"]\n",
    "\n",
    "list_length=get_list_length(example_list)\n",
    "\n",
    "print(\"The length of list is\", list_length) \n"
   ]
  },
  {
   "cell_type": "markdown",
   "id": "7edfda5a-23c9-48cf-b8e9-cc32ea5e04b1",
   "metadata": {},
   "source": [
    "# 10.Write a Python program to sum all the numeric items in a list?  \n"
   ]
  },
  {
   "cell_type": "code",
   "execution_count": 68,
   "id": "2ee03772-961f-45cd-9a95-e9cb284ad1eb",
   "metadata": {},
   "outputs": [
    {
     "name": "stdout",
     "output_type": "stream",
     "text": [
      "The sum of all numbers in the list is: 15\n"
     ]
    }
   ],
   "source": [
    "\n",
    "numbers = [1, 2, 3, 4, 5]\n",
    "\n",
    "\n",
    "total_sum = sum(numbers)\n",
    "\n",
    "\n",
    "print(f\"The sum of all numbers in the list is: {total_sum}\")"
   ]
  },
  {
   "cell_type": "markdown",
   "id": "fa9d2e6d-1604-4966-bdf3-dd761f5e425c",
   "metadata": {},
   "source": [
    "# 11.Write a Python program to get the largest number from a numeric list.  "
   ]
  },
  {
   "cell_type": "code",
   "execution_count": 69,
   "id": "3f9754b1-d70e-47dc-95c7-0410b9c438a7",
   "metadata": {},
   "outputs": [
    {
     "name": "stdout",
     "output_type": "stream",
     "text": [
      "The largest number in the list is: 78\n"
     ]
    }
   ],
   "source": [
    "\n",
    "numbers = [10, 25, 4, 78, 56]\n",
    "\n",
    "\n",
    "largest_number = max(numbers)\n",
    "\n",
    "\n",
    "print(f\"The largest number in the list is: {largest_number}\")"
   ]
  },
  {
   "cell_type": "markdown",
   "id": "6c320bef-2366-4f3d-a600-ff8a8c51fdc6",
   "metadata": {},
   "source": [
    "# Write a program that prints out all the elements of the list that are less than 5. "
   ]
  },
  {
   "cell_type": "code",
   "execution_count": 70,
   "id": "352afd0c-144f-45df-9de7-7961b170c680",
   "metadata": {},
   "outputs": [
    {
     "name": "stdout",
     "output_type": "stream",
     "text": [
      "1\n",
      "1\n",
      "2\n",
      "3\n"
     ]
    }
   ],
   "source": [
    "a = [1, 1, 2, 3, 5, 8, 13, 21, 34, 55, 89]  \n",
    "\n",
    "for number in a:\n",
    "    if number < 5:\n",
    "        print(number)"
   ]
  }
 ],
 "metadata": {
  "kernelspec": {
   "display_name": "Python 3 (ipykernel)",
   "language": "python",
   "name": "python3"
  },
  "language_info": {
   "codemirror_mode": {
    "name": "ipython",
    "version": 3
   },
   "file_extension": ".py",
   "mimetype": "text/x-python",
   "name": "python",
   "nbconvert_exporter": "python",
   "pygments_lexer": "ipython3",
   "version": "3.12.4"
  }
 },
 "nbformat": 4,
 "nbformat_minor": 5
}
